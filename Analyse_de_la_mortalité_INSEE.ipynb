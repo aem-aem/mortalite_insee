{
  "nbformat": 4,
  "nbformat_minor": 0,
  "metadata": {
    "colab": {
      "name": "Analyse de la mortalité INSEE.ipynb",
      "provenance": [],
      "collapsed_sections": []
    },
    "kernelspec": {
      "name": "python3",
      "display_name": "Python 3"
    }
  },
  "cells": [
    {
      "cell_type": "code",
      "metadata": {
        "id": "hm54EZQfY2DQ"
      },
      "source": [
        "import pandas as pd\n",
        "import re\n",
        "from time import sleep\n",
        "from datetime import datetime, timedelta\n",
        "import matplotlib.pyplot as plt"
      ],
      "execution_count": 2,
      "outputs": []
    },
    {
      "cell_type": "code",
      "metadata": {
        "id": "ndfWAlAXairL"
      },
      "source": [
        "# Interprération d'une date en format \"YYYYMMDD\"\n",
        "def parse_date(_date):\n",
        "    annee = _date[0:4]\n",
        "    mois = _date[4:6]\n",
        "    jour = _date[6:8]\n",
        "    if mois == '00':\n",
        "        mois = '07'\n",
        "    if jour == '00':\n",
        "        jour = '01'\n",
        "    if annee == '0000':\n",
        "        return None\n",
        "    return datetime(int(annee), int(mois), int(jour))"
      ],
      "execution_count": 3,
      "outputs": []
    },
    {
      "cell_type": "code",
      "metadata": {
        "id": "Qdd1aTecalHZ"
      },
      "source": [
        "# Calcul de l'age révolu à la date du décès\n",
        "def age_revolu(date_naissance, date_deces):\n",
        "    _date_naissance = parse_date(date_naissance)\n",
        "    _date_deces = parse_date(date_deces)\n",
        "    if _date_naissance and _date_deces:\n",
        "        _age_revolu = int((_date_deces - _date_naissance).days/365)\n",
        "        return _age_revolu, _date_naissance, _date_deces\n",
        "    else:\n",
        "        return None, None, None"
      ],
      "execution_count": 4,
      "outputs": []
    },
    {
      "cell_type": "code",
      "metadata": {
        "id": "hwGaR8ioanDz"
      },
      "source": [
        "# Expression régulière pour interpréter une ligne du fichier de décès INSEE\n",
        "_regexp = r'([A-Z\\s\\-\\'\\*]+)\\/\\s*([12])([0-9]{8})([0-9AB]{5})(.+[^0-9])([0-9]{8})([0-9AB]{5})\\s*([0-9]*)'\n",
        "_pattern = re.compile(_regexp)"
      ],
      "execution_count": 5,
      "outputs": []
    },
    {
      "cell_type": "code",
      "metadata": {
        "id": "Xomwbe-laozV"
      },
      "source": [
        "def parse(_string, annee_fichier):\n",
        "    _match = _pattern.match(_string)\n",
        "    if _match:\n",
        "        _age_revolu, _date_naissance, _date_deces = age_revolu(_match[3], _match[6])\n",
        "        return {'NOM_PRENOMS': _match[1],\n",
        "                'SEXE': \"H\" if _match[2] == \"1\" else \"F\",\n",
        "                'DATE_NAISSANCE': _date_naissance,\n",
        "                'COMM_NAISSANCE': _match[4],\n",
        "                'LIEU_NAISSANCE': _match[5],\n",
        "                'DATE_DECES': _date_deces,\n",
        "                'COMM_DECES': _match[7],\n",
        "                'ID': _match[8],\n",
        "                'AGE_REVOLU': _age_revolu,\n",
        "                'ANNEE': int(_match[6][0:4]),\n",
        "                'ANNEE_FICHIER': annee_fichier\n",
        "               }"
      ],
      "execution_count": 6,
      "outputs": []
    },
    {
      "cell_type": "code",
      "metadata": {
        "colab": {
          "base_uri": "https://localhost:8080/"
        },
        "id": "kvY_nTgiaqSq",
        "outputId": "95d8177d-cf07-4da2-e6e1-152acc0b73d1"
      },
      "source": [
        "# Exemple\n",
        "parse('OSWALD*ANNA/                                                                    21928030599109LORRACH                       ALLEMAGNE                     201912071410020                ', 2020)"
      ],
      "execution_count": 7,
      "outputs": [
        {
          "output_type": "execute_result",
          "data": {
            "text/plain": [
              "{'AGE_REVOLU': 91,\n",
              " 'ANNEE': 2019,\n",
              " 'ANNEE_FICHIER': 2020,\n",
              " 'COMM_DECES': '14100',\n",
              " 'COMM_NAISSANCE': '99109',\n",
              " 'DATE_DECES': datetime.datetime(2019, 12, 7, 0, 0),\n",
              " 'DATE_NAISSANCE': datetime.datetime(1928, 3, 5, 0, 0),\n",
              " 'ID': '20',\n",
              " 'LIEU_NAISSANCE': 'LORRACH                       ALLEMAGNE                     ',\n",
              " 'NOM_PRENOMS': 'OSWALD*ANNA',\n",
              " 'SEXE': 'F'}"
            ]
          },
          "metadata": {
            "tags": []
          },
          "execution_count": 7
        }
      ]
    },
    {
      "cell_type": "code",
      "metadata": {
        "id": "2_q0BS_UasIa"
      },
      "source": [
        "fichiers_insee_deces = {\n",
        "    2020: 'https://www.data.gouv.fr/fr/datasets/r/a1f09595-0e79-4300-be1a-c97964e55f05',\n",
        "    2019: 'https://www.data.gouv.fr/fr/datasets/r/02acf8f5-9190-4f8e-a37c-3b34eccac833',\n",
        "    2018: 'https://www.data.gouv.fr/fr/datasets/r/c2a97b38-5c0d-4f21-910f-1cea164c2c89',\n",
        "    2017: 'https://www.data.gouv.fr/fr/datasets/r/fd61ff96-1e4e-450f-8648-3e3016edbe34',\n",
        "    2016: 'https://www.data.gouv.fr/fr/datasets/r/8fb032c1-b81e-46c4-a48a-15380ce41e40',\n",
        "}"
      ],
      "execution_count": 8,
      "outputs": []
    },
    {
      "cell_type": "code",
      "metadata": {
        "id": "AFTCvXURmTi-"
      },
      "source": [
        "# Récupration et lecture des fichiers de décès INSEE\n",
        "_dataframes = {annee_fichier: pd.read_csv(_fichier, sep='\\t', header=None, encoding='latin1')\n",
        "               for annee_fichier, _fichier in fichiers_insee_deces.items()}"
      ],
      "execution_count": 9,
      "outputs": []
    },
    {
      "cell_type": "code",
      "metadata": {
        "id": "LWbI1rd0K03R"
      },
      "source": [
        "# Concatenation et elimination des quelques lignes dont les informations sont inexploitables\n",
        "deces = pd.concat([pd.DataFrame([x for x in df[0].map(lambda x: parse(x, annee_fichier)) if x])\n",
        "                   for annee_fichier, df in _dataframes.items()])\n",
        "deces = deces.query('AGE_REVOLU==AGE_REVOLU and SEXE==SEXE and ANNEE==ANNEE')"
      ],
      "execution_count": 19,
      "outputs": []
    },
    {
      "cell_type": "code",
      "metadata": {
        "colab": {
          "base_uri": "https://localhost:8080/"
        },
        "id": "vKnaqk2BJzxa",
        "outputId": "a7d721ea-332f-4f4f-b304-d8a12026d3c3"
      },
      "source": [
        "['Fichier {} : {} décès dont {}% en France métropolitaine et {} inexploitables'.format\n",
        " (annee_fichier,\n",
        "  k_format(df.shape[0]),\n",
        "  int(10000*deces[~deces['COMM_DECES'].str.startswith('99')].query(f'ANNEE_FICHIER=={annee_fichier}').shape[0]/df.shape[0])/100,\n",
        "  df.shape[0] - deces.query(f'ANNEE_FICHIER=={annee_fichier}').shape[0],\n",
        ")\n",
        "for annee_fichier, df in _dataframes.items()]"
      ],
      "execution_count": 189,
      "outputs": [
        {
          "output_type": "execute_result",
          "data": {
            "text/plain": [
              "['Fichier 2020 : 679.9k décès dont 99.1% en France métropolitaine et 3 inexploitables',\n",
              " 'Fichier 2019 : 625.3k décès dont 98.88% en France métropolitaine et 2 inexploitables',\n",
              " 'Fichier 2018 : 620.1k décès dont 98.8% en France métropolitaine et 5 inexploitables',\n",
              " 'Fichier 2017 : 612.9k décès dont 98.74% en France métropolitaine et 5 inexploitables',\n",
              " 'Fichier 2016 : 603.3k décès dont 98.67% en France métropolitaine et 4 inexploitables']"
            ]
          },
          "metadata": {
            "tags": []
          },
          "execution_count": 189
        }
      ]
    },
    {
      "cell_type": "code",
      "metadata": {
        "colab": {
          "base_uri": "https://localhost:8080/"
        },
        "id": "oNhLjlNbo9U9",
        "outputId": "a1d0e2b3-7353-43e2-9f7f-c5cd50382f77"
      },
      "source": [
        "deces['DATE_DECES'].map(lambda _date: (_date + timedelta(days=31)).year).value_counts().map(k_format)[0:5]"
      ],
      "execution_count": 187,
      "outputs": [
        {
          "output_type": "execute_result",
          "data": {
            "text/plain": [
              "2020    665.2k\n",
              "2018    622.6k\n",
              "2019    619.5k\n",
              "2017    615.9k\n",
              "2016    555.7k\n",
              "Name: DATE_DECES, dtype: object"
            ]
          },
          "metadata": {
            "tags": []
          },
          "execution_count": 187
        }
      ]
    },
    {
      "cell_type": "code",
      "metadata": {
        "id": "6AiXy81Ec0xT"
      },
      "source": [
        "deces.to_csv('deces.csv.gz', compression='gzip')"
      ],
      "execution_count": null,
      "outputs": []
    },
    {
      "cell_type": "code",
      "metadata": {
        "id": "srzRsHvhaz7D"
      },
      "source": [
        "# Limitation au décès survenus en France metropolitaine\n",
        "deces_metro = deces[~deces['COMM_DECES'].str.startswith('99')]\n",
        "# Suppression des données du 29 Février 2020, seule année bissextile\n",
        "deces_metro = deces_metro[deces_metro['DATE_DECES'] != '20200229']"
      ],
      "execution_count": 32,
      "outputs": []
    },
    {
      "cell_type": "code",
      "metadata": {
        "colab": {
          "base_uri": "https://localhost:8080/"
        },
        "id": "jLrHWEbMP31k",
        "outputId": "8173125a-c633-4ee4-b9b2-98c4aa79d849"
      },
      "source": [
        "# 99.5% des décès metropolitains hors décembre d'une année sont remontés dans le fichier de la même année\n",
        "for annee in [2019, 2018, 2017, 2016]:\n",
        "    deces_annee_n = deces_metro.query(f'DATE_DECES>=\"{annee}-01-01\" and DATE_DECES<\"{annee}-12-31\"')\n",
        "    fichier_n_plus = deces_annee_n.query(f'ANNEE_FICHIER=={annee+1}')['DATE_DECES'].count()\n",
        "    fichier_n_plus += deces_annee_n.query(f'ANNEE_FICHIER=={annee+2}')['DATE_DECES'].count()\n",
        "    fichier_n_plus += deces_annee_n.query(f'ANNEE_FICHIER=={annee+3}')['DATE_DECES'].count()\n",
        "    print(annee, int(10000*(1 - fichier_n_plus/deces_annee_n.shape[0]))/100)"
      ],
      "execution_count": 50,
      "outputs": [
        {
          "output_type": "stream",
          "text": [
            "2019 98.08\n",
            "2018 97.74\n",
            "2017 97.63\n",
            "2016 98.11\n"
          ],
          "name": "stdout"
        }
      ]
    },
    {
      "cell_type": "code",
      "metadata": {
        "colab": {
          "base_uri": "https://localhost:8080/"
        },
        "id": "niSqcwoGvIdD",
        "outputId": "16015233-f5bb-41e4-9f73-f66dcbee3011"
      },
      "source": [
        "# 99.5% des décès metropolitains hors décembre d'une année sont remontés dans le fichier de la même année\n",
        "for annee in [2019, 2018, 2017, 2016]:\n",
        "    deces_annee_n_hors_decembre = deces_metro.query(f'DATE_DECES>=\"{annee}-01-01\" and DATE_DECES<\"{annee}-12-01\"')\n",
        "    fichier_n_plus = deces_annee_n_hors_decembre.query(f'ANNEE_FICHIER=={annee+1}')['DATE_DECES'].count()\n",
        "    fichier_n_plus += deces_annee_n_hors_decembre.query(f'ANNEE_FICHIER=={annee+2}')['DATE_DECES'].count()\n",
        "    fichier_n_plus += deces_annee_n_hors_decembre.query(f'ANNEE_FICHIER=={annee+3}')['DATE_DECES'].count()\n",
        "    print(annee, int(10000*(1 - fichier_n_plus/deces_annee_n_hors_decembre.shape[0]))/100)"
      ],
      "execution_count": 51,
      "outputs": [
        {
          "output_type": "stream",
          "text": [
            "2019 99.82\n",
            "2018 99.72\n",
            "2017 99.59\n",
            "2016 99.74\n"
          ],
          "name": "stdout"
        }
      ]
    },
    {
      "cell_type": "code",
      "metadata": {
        "id": "ulhfxTqQxPIy"
      },
      "source": [
        "# Re-definition de l'année de décès comme l'année de la (date de deces + 31 jours), afin de capturer au moins 99.5% des décès par année glissante\n",
        "deces_metro['ANNEE'] = deces_metro['DATE_DECES'].map(lambda _date: (_date + timedelta(days=31)).year)"
      ],
      "execution_count": 39,
      "outputs": []
    },
    {
      "cell_type": "code",
      "metadata": {
        "colab": {
          "base_uri": "https://localhost:8080/",
          "height": 297
        },
        "id": "SXafzRlLUO6E",
        "outputId": "580a2225-aa11-4afa-86e8-38aaeec1db93"
      },
      "source": [
        "deces_metro.groupby(['ANNEE', 'SEXE'])['NOM_PRENOMS'].count().map(k_format).reset_index().query('ANNEE>=2017 and ANNEE<=2020')"
      ],
      "execution_count": 192,
      "outputs": [
        {
          "output_type": "execute_result",
          "data": {
            "text/html": [
              "<div>\n",
              "<style scoped>\n",
              "    .dataframe tbody tr th:only-of-type {\n",
              "        vertical-align: middle;\n",
              "    }\n",
              "\n",
              "    .dataframe tbody tr th {\n",
              "        vertical-align: top;\n",
              "    }\n",
              "\n",
              "    .dataframe thead th {\n",
              "        text-align: right;\n",
              "    }\n",
              "</style>\n",
              "<table border=\"1\" class=\"dataframe\">\n",
              "  <thead>\n",
              "    <tr style=\"text-align: right;\">\n",
              "      <th></th>\n",
              "      <th>ANNEE</th>\n",
              "      <th>SEXE</th>\n",
              "      <th>NOM_PRENOMS</th>\n",
              "    </tr>\n",
              "  </thead>\n",
              "  <tbody>\n",
              "    <tr>\n",
              "      <th>166</th>\n",
              "      <td>2017</td>\n",
              "      <td>F</td>\n",
              "      <td>306.4k</td>\n",
              "    </tr>\n",
              "    <tr>\n",
              "      <th>167</th>\n",
              "      <td>2017</td>\n",
              "      <td>H</td>\n",
              "      <td>302.0k</td>\n",
              "    </tr>\n",
              "    <tr>\n",
              "      <th>168</th>\n",
              "      <td>2018</td>\n",
              "      <td>F</td>\n",
              "      <td>309.1k</td>\n",
              "    </tr>\n",
              "    <tr>\n",
              "      <th>169</th>\n",
              "      <td>2018</td>\n",
              "      <td>H</td>\n",
              "      <td>306.8k</td>\n",
              "    </tr>\n",
              "    <tr>\n",
              "      <th>170</th>\n",
              "      <td>2019</td>\n",
              "      <td>F</td>\n",
              "      <td>308.1k</td>\n",
              "    </tr>\n",
              "    <tr>\n",
              "      <th>171</th>\n",
              "      <td>2019</td>\n",
              "      <td>H</td>\n",
              "      <td>305.3k</td>\n",
              "    </tr>\n",
              "    <tr>\n",
              "      <th>172</th>\n",
              "      <td>2020</td>\n",
              "      <td>F</td>\n",
              "      <td>328.9k</td>\n",
              "    </tr>\n",
              "    <tr>\n",
              "      <th>173</th>\n",
              "      <td>2020</td>\n",
              "      <td>H</td>\n",
              "      <td>330.3k</td>\n",
              "    </tr>\n",
              "  </tbody>\n",
              "</table>\n",
              "</div>"
            ],
            "text/plain": [
              "     ANNEE SEXE NOM_PRENOMS\n",
              "166   2017    F      306.4k\n",
              "167   2017    H      302.0k\n",
              "168   2018    F      309.1k\n",
              "169   2018    H      306.8k\n",
              "170   2019    F      308.1k\n",
              "171   2019    H      305.3k\n",
              "172   2020    F      328.9k\n",
              "173   2020    H      330.3k"
            ]
          },
          "metadata": {
            "tags": []
          },
          "execution_count": 192
        }
      ]
    },
    {
      "cell_type": "code",
      "metadata": {
        "id": "Avuwslgka1W2",
        "colab": {
          "base_uri": "https://localhost:8080/"
        },
        "outputId": "287df6d8-2db3-43f6-88f5-062914adc1eb"
      },
      "source": [
        "# Pyramide des ages par sexe en France métropolitaine, celle de 2016 n'est pas facilement disponible\n",
        "# Attention, le site de l'INSEE connaît de temps en temps des latences ou indisponibilités\n",
        "pyramides_metro = {}\n",
        "for annee in [2017, 2018, 2019, 2020]:\n",
        "  print(annee)\n",
        "  pyramides_metro[annee] = pd.read_excel(f'https://www.insee.fr/fr/statistiques/fichier/1913143/pyramide-des-ages-{annee}.xls', sheet_name=f'{annee} Métro')[5:-2]\n",
        "  sleep(5)"
      ],
      "execution_count": 52,
      "outputs": [
        {
          "output_type": "stream",
          "text": [
            "2017\n",
            "2018\n",
            "2019\n",
            "2020\n"
          ],
          "name": "stdout"
        }
      ]
    },
    {
      "cell_type": "code",
      "metadata": {
        "id": "PuY2bAOzbdri"
      },
      "source": [
        "# Quelques reformatages\n",
        "for annee, df in pyramides_metro.items():\n",
        "    df.columns = ['ANNEE_NAISSANCE', 'AGE_REVOLU', 'NB_H', 'NB_F', 'NB']\n",
        "    df['ANNEE'] = annee\n",
        "    df['AGE_REVOLU'] = df['AGE_REVOLU'].astype(int)"
      ],
      "execution_count": 53,
      "outputs": []
    },
    {
      "cell_type": "code",
      "metadata": {
        "id": "B_xJvgyKbMYH"
      },
      "source": [
        "# Concaténation pour avoir un seul dataframe\n",
        "pyramide_metro_orig = pd.concat(pyramides_metro.values())"
      ],
      "execution_count": 54,
      "outputs": []
    },
    {
      "cell_type": "code",
      "metadata": {
        "id": "qMRqzPQXbkTl"
      },
      "source": [
        "# Reformatage pour avoir une ligne par année, age révolu et sexe\n",
        "df_h = pyramide_metro_orig[['ANNEE', 'AGE_REVOLU', 'NB_H']].rename(columns={'NB_H': 'NB'})\n",
        "df_h['SEXE'] = \"H\"\n",
        "df_f = pyramide_metro_orig[['ANNEE', 'AGE_REVOLU', 'NB_F']].rename(columns={'NB_F': 'NB'})\n",
        "df_f['SEXE'] = \"F\"\n",
        "pyramide_metro = pd.concat([df_h, df_f])"
      ],
      "execution_count": 55,
      "outputs": []
    },
    {
      "cell_type": "code",
      "metadata": {
        "id": "TL78T7QQbmHx"
      },
      "source": [
        "# Aggrégation des décès par année, age révolu (jusqu'à 96 ans) et sexe\n",
        "deces_metro_agg = deces_metro.groupby(['AGE_REVOLU', 'ANNEE', 'SEXE'])['DATE_DECES'].count().reset_index()\n",
        "deces_metro_agg = deces_metro_agg.query('AGE_REVOLU < 97')\n",
        "deces_metro_agg.columns = ['AGE_REVOLU', 'ANNEE', 'SEXE', 'NB_DECES']"
      ],
      "execution_count": 56,
      "outputs": []
    },
    {
      "cell_type": "code",
      "metadata": {
        "id": "vNkMmFoebniy"
      },
      "source": [
        "# Jointure entre les pyrmides d'âge et les décès par age révolu\n",
        "_merge = deces_metro_agg.merge(pyramide_metro)"
      ],
      "execution_count": 76,
      "outputs": []
    },
    {
      "cell_type": "code",
      "metadata": {
        "id": "ebU1m9hkbp30"
      },
      "source": [
        "# Retourne les taux de mortalité par age révolu pour une année et un sexe donnés\n",
        "def mortalite_par_age(df, annee, sexe):\n",
        "    _df = df[(df['ANNEE'] == annee) & (df['SEXE']==sexe)]\n",
        "    _df = _df.set_index(_df['AGE_REVOLU'])\n",
        "    return pd.DataFrame(_df['NB_DECES'] / _df['NB'], columns=[f'{annee}_{sexe}_MORTALITE'])"
      ],
      "execution_count": 77,
      "outputs": []
    },
    {
      "cell_type": "code",
      "metadata": {
        "id": "RucyTbQ-brY5"
      },
      "source": [
        "# Calcul des series de taux de mortalité pour toutes les combinaisons d'année et sexe\n",
        "taux_mortalite = pd.concat([mortalite_par_age(_merge, annee, sexe)\n",
        "                            for annee in [2020, 2019, 2018, 2017]\n",
        "                            for sexe in [\"H\", \"F\"]], axis=1)"
      ],
      "execution_count": 78,
      "outputs": []
    },
    {
      "cell_type": "code",
      "metadata": {
        "id": "yLutcjpMbsk3"
      },
      "source": [
        "# Enrichissement avec la pyramide d'age 2020 et la mortalité max et min observée entre 2017 et 2019\n",
        "for sexe in [\"H\", \"F\"]:\n",
        "    taux_mortalite[f'NB_2020_{sexe}'] = _merge.query(f'SEXE==\"{sexe}\" and ANNEE==2020').set_index('AGE_REVOLU')['NB']\n",
        "    taux_mortalite[f'MAX_{sexe}_MORTALITE'] =taux_mortalite[[f'{annee}_{sexe}_MORTALITE'\n",
        "                                                             for annee in [2017, 2018, 2019]]].max(axis=1)\n",
        "    taux_mortalite[f'MIN_{sexe}_MORTALITE'] = taux_mortalite[[f'{annee}_{sexe}_MORTALITE'\n",
        "                                                              for annee in [2017, 2018, 2019]]].min(axis=1)\n",
        "    taux_mortalite[f'MOY_{sexe}_MORTALITE'] = taux_mortalite[[f'{annee}_{sexe}_MORTALITE'\n",
        "                                                              for annee in [2017, 2018, 2019]]].mean(axis=1)"
      ],
      "execution_count": 184,
      "outputs": []
    },
    {
      "cell_type": "code",
      "metadata": {
        "id": "qgUP8tW-etbY"
      },
      "source": [
        "def k_format(_float):\n",
        "  return f'{int(_float/100)/10}k'"
      ],
      "execution_count": 158,
      "outputs": []
    },
    {
      "cell_type": "code",
      "metadata": {
        "id": "Sg8LCZLNVVZo"
      },
      "source": [
        "_list = []\n",
        "for sexe in [\"F\", \"H\"]:\n",
        "  for ages in [(0, 44), (45, 64), (65, 74), (75, 89), (90, 96)]:\n",
        "    _pop = taux_mortalite.query(f'AGE_REVOLU>={ages[0]} and AGE_REVOLU<={ages[1]}')[f'NB_2020_{sexe}']\n",
        "    _deces_2020 = _pop.multiply(taux_mortalite[f'2020_{sexe}_MORTALITE']).sum()\n",
        "    _enveloppe_min = _pop.multiply(taux_mortalite[f'MIN_{sexe}_MORTALITE']).sum()\n",
        "    _enveloppe_moy = _pop.multiply(taux_mortalite[f'MOY_{sexe}_MORTALITE']).sum()\n",
        "    _enveloppe_max = _pop.multiply(taux_mortalite[f'MAX_{sexe}_MORTALITE']).sum()\n",
        "    _depassement = _deces_2020 - _enveloppe_max\n",
        "    _ecart_moy = _deces_2020 - _enveloppe_moy\n",
        "    _list.append(\n",
        "        {'SEXE': 'Hommes' if sexe==\"H\" else 'Femmes', 'AGE_REVOLU': f'{ages[0]} à {ages[1]}',\n",
        "         'DECES_2020': f'{k_format(_deces_2020)}',\n",
        "         'ENVELOPPE_ATTENDUE': f'{k_format(_enveloppe_min)} à {k_format(_enveloppe_max)}',\n",
        "         'ECART_MOYENNE_ATTENDUE':  f'{k_format(_ecart_moy)}',\n",
        "         'DEPASSEMENT': f'{k_format(_depassement)}'\n",
        "         })"
      ],
      "execution_count": 182,
      "outputs": []
    },
    {
      "cell_type": "code",
      "metadata": {
        "colab": {
          "base_uri": "https://localhost:8080/",
          "height": 359
        },
        "id": "9hAMOsQgbLMX",
        "outputId": "e32b1fe5-3976-4d9e-d34f-90ade1a46d6d"
      },
      "source": [
        "pd.DataFrame(_list)"
      ],
      "execution_count": 183,
      "outputs": [
        {
          "output_type": "execute_result",
          "data": {
            "text/html": [
              "<div>\n",
              "<style scoped>\n",
              "    .dataframe tbody tr th:only-of-type {\n",
              "        vertical-align: middle;\n",
              "    }\n",
              "\n",
              "    .dataframe tbody tr th {\n",
              "        vertical-align: top;\n",
              "    }\n",
              "\n",
              "    .dataframe thead th {\n",
              "        text-align: right;\n",
              "    }\n",
              "</style>\n",
              "<table border=\"1\" class=\"dataframe\">\n",
              "  <thead>\n",
              "    <tr style=\"text-align: right;\">\n",
              "      <th></th>\n",
              "      <th>SEXE</th>\n",
              "      <th>AGE_REVOLU</th>\n",
              "      <th>DECES_2020</th>\n",
              "      <th>ENVELOPPE_ATTENDUE</th>\n",
              "      <th>ECART_MOYENNE_ATTENDUE</th>\n",
              "      <th>DEPASSEMENT</th>\n",
              "    </tr>\n",
              "  </thead>\n",
              "  <tbody>\n",
              "    <tr>\n",
              "      <th>0</th>\n",
              "      <td>Femmes</td>\n",
              "      <td>0 à 44</td>\n",
              "      <td>6.5k</td>\n",
              "      <td>6.3k à 7.2k</td>\n",
              "      <td>-0.2k</td>\n",
              "      <td>-0.7k</td>\n",
              "    </tr>\n",
              "    <tr>\n",
              "      <th>1</th>\n",
              "      <td>Femmes</td>\n",
              "      <td>45 à 64</td>\n",
              "      <td>27.8k</td>\n",
              "      <td>27.2k à 28.4k</td>\n",
              "      <td>0.0k</td>\n",
              "      <td>-0.6k</td>\n",
              "    </tr>\n",
              "    <tr>\n",
              "      <th>2</th>\n",
              "      <td>Femmes</td>\n",
              "      <td>65 à 74</td>\n",
              "      <td>36.6k</td>\n",
              "      <td>34.3k à 36.9k</td>\n",
              "      <td>1.1k</td>\n",
              "      <td>-0.3k</td>\n",
              "    </tr>\n",
              "    <tr>\n",
              "      <th>3</th>\n",
              "      <td>Femmes</td>\n",
              "      <td>75 à 89</td>\n",
              "      <td>130.6k</td>\n",
              "      <td>123.1k à 130.8k</td>\n",
              "      <td>3.5k</td>\n",
              "      <td>-0.2k</td>\n",
              "    </tr>\n",
              "    <tr>\n",
              "      <th>4</th>\n",
              "      <td>Femmes</td>\n",
              "      <td>90 à 96</td>\n",
              "      <td>97.2k</td>\n",
              "      <td>92.1k à 98.4k</td>\n",
              "      <td>1.8k</td>\n",
              "      <td>-1.2k</td>\n",
              "    </tr>\n",
              "    <tr>\n",
              "      <th>5</th>\n",
              "      <td>Hommes</td>\n",
              "      <td>0 à 44</td>\n",
              "      <td>12.7k</td>\n",
              "      <td>12.5k à 13.7k</td>\n",
              "      <td>-0.4k</td>\n",
              "      <td>-1.0k</td>\n",
              "    </tr>\n",
              "    <tr>\n",
              "      <th>6</th>\n",
              "      <td>Hommes</td>\n",
              "      <td>45 à 64</td>\n",
              "      <td>52.8k</td>\n",
              "      <td>51.6k à 54.4k</td>\n",
              "      <td>-0.2k</td>\n",
              "      <td>-1.5k</td>\n",
              "    </tr>\n",
              "    <tr>\n",
              "      <th>7</th>\n",
              "      <td>Hommes</td>\n",
              "      <td>65 à 74</td>\n",
              "      <td>66.7k</td>\n",
              "      <td>62.1k à 66.9k</td>\n",
              "      <td>2.7k</td>\n",
              "      <td>-0.1k</td>\n",
              "    </tr>\n",
              "    <tr>\n",
              "      <th>8</th>\n",
              "      <td>Hommes</td>\n",
              "      <td>75 à 89</td>\n",
              "      <td>139.2k</td>\n",
              "      <td>128.0k à 136.3k</td>\n",
              "      <td>6.7k</td>\n",
              "      <td>2.8k</td>\n",
              "    </tr>\n",
              "    <tr>\n",
              "      <th>9</th>\n",
              "      <td>Hommes</td>\n",
              "      <td>90 à 96</td>\n",
              "      <td>50.4k</td>\n",
              "      <td>47.0k à 48.9k</td>\n",
              "      <td>2.4k</td>\n",
              "      <td>1.5k</td>\n",
              "    </tr>\n",
              "  </tbody>\n",
              "</table>\n",
              "</div>"
            ],
            "text/plain": [
              "     SEXE AGE_REVOLU  ... ECART_MOYENNE_ATTENDUE DEPASSEMENT\n",
              "0  Femmes     0 à 44  ...                  -0.2k       -0.7k\n",
              "1  Femmes    45 à 64  ...                   0.0k       -0.6k\n",
              "2  Femmes    65 à 74  ...                   1.1k       -0.3k\n",
              "3  Femmes    75 à 89  ...                   3.5k       -0.2k\n",
              "4  Femmes    90 à 96  ...                   1.8k       -1.2k\n",
              "5  Hommes     0 à 44  ...                  -0.4k       -1.0k\n",
              "6  Hommes    45 à 64  ...                  -0.2k       -1.5k\n",
              "7  Hommes    65 à 74  ...                   2.7k       -0.1k\n",
              "8  Hommes    75 à 89  ...                   6.7k        2.8k\n",
              "9  Hommes    90 à 96  ...                   2.4k        1.5k\n",
              "\n",
              "[10 rows x 6 columns]"
            ]
          },
          "metadata": {
            "tags": []
          },
          "execution_count": 183
        }
      ]
    },
    {
      "cell_type": "code",
      "metadata": {
        "id": "pkWPugNfQZ_7"
      },
      "source": [
        "import plotly.graph_objects as go\n",
        "fig = go.Figure()\n",
        "fig.update_layout(\n",
        "    title='Taux de mortalité par âge révolu',\n",
        "    font=dict(\n",
        "        family=\"Century Gothic\",\n",
        "        size=18,\n",
        "    ),\n",
        "    legend=dict(\n",
        "      yanchor=\"top\", y=0.99, xanchor=\"left\", x=0.01\n",
        "    )\n",
        ")"
      ],
      "execution_count": null,
      "outputs": []
    },
    {
      "cell_type": "code",
      "metadata": {
        "colab": {
          "base_uri": "https://localhost:8080/",
          "height": 542
        },
        "id": "KJZC0zFwagaY",
        "outputId": "710e3f6e-8b90-40d6-bc41-1535bbb13a79"
      },
      "source": [
        "sexe = 'H'\n",
        "col = f'MIN_{sexe}_MORTALITE'\n",
        "fig.add_trace(go.Scatter(x=taux_mortalite[col].index, y=taux_mortalite[col], name=col, line_color='grey'))\n",
        "col = f'MAX_{sexe}_MORTALITE'\n",
        "fig.add_trace(go.Scatter(x=taux_mortalite[col].index, y=taux_mortalite[col], name=col, line_color='grey', fill='tonexty'))\n",
        "col = f'2020_{sexe}_MORTALITE'\n",
        "fig.add_trace(go.Scatter(x=taux_mortalite[col].index, y=taux_mortalite[col], name=col, line_color='red'))\n",
        "fig.show()"
      ],
      "execution_count": 97,
      "outputs": [
        {
          "output_type": "display_data",
          "data": {
            "text/html": [
              "<html>\n",
              "<head><meta charset=\"utf-8\" /></head>\n",
              "<body>\n",
              "    <div>\n",
              "            <script src=\"https://cdnjs.cloudflare.com/ajax/libs/mathjax/2.7.5/MathJax.js?config=TeX-AMS-MML_SVG\"></script><script type=\"text/javascript\">if (window.MathJax) {MathJax.Hub.Config({SVG: {font: \"STIX-Web\"}});}</script>\n",
              "                <script type=\"text/javascript\">window.PlotlyConfig = {MathJaxConfig: 'local'};</script>\n",
              "        <script src=\"https://cdn.plot.ly/plotly-latest.min.js\"></script>    \n",
              "            <div id=\"86e261c3-6ad1-4ba2-9351-55bf4422d4bf\" class=\"plotly-graph-div\" style=\"height:525px; width:100%;\"></div>\n",
              "            <script type=\"text/javascript\">\n",
              "                \n",
              "                    window.PLOTLYENV=window.PLOTLYENV || {};\n",
              "                    \n",
              "                if (document.getElementById(\"86e261c3-6ad1-4ba2-9351-55bf4422d4bf\")) {\n",
              "                    Plotly.newPlot(\n",
              "                        '86e261c3-6ad1-4ba2-9351-55bf4422d4bf',\n",
              "                        [{\"line\": {\"color\": \"grey\"}, \"name\": \"MIN_H_MORTALITE\", \"type\": \"scatter\", \"x\": [0.0, 1.0, 2.0, 3.0, 4.0, 5.0, 6.0, 7.0, 8.0, 9.0, 10.0, 11.0, 12.0, 13.0, 14.0, 15.0, 16.0, 17.0, 18.0, 19.0, 20.0, 21.0, 22.0, 23.0, 24.0, 25.0, 26.0, 27.0, 28.0, 29.0, 30.0, 31.0, 32.0, 33.0, 34.0, 35.0, 36.0, 37.0, 38.0, 39.0, 40.0, 41.0, 42.0, 43.0, 44.0, 45.0, 46.0, 47.0, 48.0, 49.0, 50.0, 51.0, 52.0, 53.0, 54.0, 55.0, 56.0, 57.0, 58.0, 59.0, 60.0, 61.0, 62.0, 63.0, 64.0, 65.0, 66.0, 67.0, 68.0, 69.0, 70.0, 71.0, 72.0, 73.0, 74.0, 75.0, 76.0, 77.0, 78.0, 79.0, 80.0, 81.0, 82.0, 83.0, 84.0, 85.0, 86.0, 87.0, 88.0, 89.0, 90.0, 91.0, 92.0, 93.0, 94.0, 95.0, 96.0], \"y\": [0.004535907652577736, 0.0003253790113992952, 0.00019758316275320282, 0.00011786152057076406, 9.81275255257371e-05, 0.00010488964841501509, 7.233110686546913e-05, 7.031564450349881e-05, 7.019123480904354e-05, 4.406893360525497e-05, 6.617793039552343e-05, 7.609117195132129e-05, 8.901967087449462e-05, 8.687558175612783e-05, 0.00014069557919680102, 0.00018245502843657646, 0.0002515741353037578, 0.00029605489094522035, 0.00039108330074305825, 0.0004659515096305371, 0.0005388060378284516, 0.00058802488673069, 0.0005557558686464227, 0.0005962533105925094, 0.0006227789599045073, 0.0006589323136085726, 0.000721612709097494, 0.0006317306193110642, 0.000703340599396523, 0.0008046436408007262, 0.0007680931501713238, 0.0008227654262028726, 0.0009059734541990183, 0.0009236567278732605, 0.0009149788736585269, 0.0010580304018805086, 0.0011181738265212478, 0.0011964131872398772, 0.001143228756719372, 0.0013929673009855372, 0.0014623201114148656, 0.001545591137935141, 0.001692776784775523, 0.0018876239628894658, 0.0020297926217373147, 0.002265921777438681, 0.0024186238523876617, 0.0027901898542226893, 0.0031630953547285476, 0.0034694197436419315, 0.0038237869529628996, 0.00404066985645933, 0.004601317009613466, 0.004960727573377429, 0.005337351898982217, 0.005988038163953102, 0.006637887702906478, 0.007008776956125056, 0.007787577173348186, 0.00869124248114638, 0.009564784250367131, 0.010310596610629491, 0.011042912253257858, 0.01235599948224533, 0.0127436788917599, 0.013754775400809454, 0.014476886937851426, 0.01536890491163688, 0.015952959992988913, 0.017832420182368088, 0.018701540429127698, 0.020303194369247428, 0.021799035322858346, 0.02412676643172112, 0.026016160626836433, 0.027886757890995584, 0.02960636985533251, 0.03227821510702282, 0.034876725357963434, 0.04115497446465875, 0.046532438478747204, 0.051716504756122245, 0.05680586041837463, 0.06653756211634025, 0.07436414213789246, 0.08630630786386702, 0.09707492540920372, 0.11194717932956749, 0.12751180777309648, 0.14804883960492032, 0.16757483289741354, 0.19214649124773067, 0.21859565003899367, 0.23994522127720916, 0.26458603001102643, 0.2886782447302134, 0.3276995305164319]}, {\"fill\": \"tonexty\", \"line\": {\"color\": \"grey\"}, \"name\": \"MAX_H_MORTALITE\", \"type\": \"scatter\", \"x\": [0.0, 1.0, 2.0, 3.0, 4.0, 5.0, 6.0, 7.0, 8.0, 9.0, 10.0, 11.0, 12.0, 13.0, 14.0, 15.0, 16.0, 17.0, 18.0, 19.0, 20.0, 21.0, 22.0, 23.0, 24.0, 25.0, 26.0, 27.0, 28.0, 29.0, 30.0, 31.0, 32.0, 33.0, 34.0, 35.0, 36.0, 37.0, 38.0, 39.0, 40.0, 41.0, 42.0, 43.0, 44.0, 45.0, 46.0, 47.0, 48.0, 49.0, 50.0, 51.0, 52.0, 53.0, 54.0, 55.0, 56.0, 57.0, 58.0, 59.0, 60.0, 61.0, 62.0, 63.0, 64.0, 65.0, 66.0, 67.0, 68.0, 69.0, 70.0, 71.0, 72.0, 73.0, 74.0, 75.0, 76.0, 77.0, 78.0, 79.0, 80.0, 81.0, 82.0, 83.0, 84.0, 85.0, 86.0, 87.0, 88.0, 89.0, 90.0, 91.0, 92.0, 93.0, 94.0, 95.0, 96.0], \"y\": [0.0047795442424941265, 0.00038785586483364664, 0.000219730116484428, 0.0001500934202149959, 0.0001388306856950404, 0.00011506587521355976, 0.00010699790624551642, 9.509713318719261e-05, 8.233781267178937e-05, 8.525232251684342e-05, 9.876186346774582e-05, 0.00011337294149715, 0.00011598494663458572, 0.00010384036274900054, 0.00017221104217202406, 0.00020129911575681104, 0.00025971862182518486, 0.00032633823588026624, 0.00047847118885736297, 0.0005684164376857549, 0.0006398388864705543, 0.0006868388841674283, 0.0006701832671992762, 0.0006720372695923069, 0.0007063688049158674, 0.0007116161685813187, 0.0008289774924265395, 0.0007087096116056568, 0.0007929510681991678, 0.0008397015098783753, 0.0008660926060963443, 0.0008994413995518573, 0.0009586698063539377, 0.0010114388299385893, 0.0010213156762719602, 0.0010601387818041635, 0.0011821829190411888, 0.0012817871775504131, 0.0013784874717575081, 0.0015489347201462194, 0.0015410056896655651, 0.0015999790510107888, 0.0018470515896459015, 0.0020301385163280813, 0.002167958731357007, 0.0024862428640801686, 0.002662256464039369, 0.0029950786926470014, 0.0032054314912944738, 0.003658527905172475, 0.003928899002681961, 0.004293268276739544, 0.004748630741430753, 0.0053022294210443655, 0.005643702969141923, 0.006284521429288121, 0.006988223005230133, 0.0073396399869517515, 0.008549910801167694, 0.009065354524228894, 0.009878697694710845, 0.011040702053802353, 0.011923263976993994, 0.012553987283746616, 0.013430769567501314, 0.014114389879524677, 0.014805140673845085, 0.015985071545757776, 0.01728131271722417, 0.01804253239631375, 0.019714763840443208, 0.02356462629179578, 0.02553747869118353, 0.026681583943585573, 0.026933060497546374, 0.030689303978503942, 0.032627664378864496, 0.036097189621264986, 0.03908404464871963, 0.04256762147929466, 0.046806741424086674, 0.054008220330755044, 0.060537772770003134, 0.07027530531980956, 0.0786550872440443, 0.08957010513167482, 0.10204988933883578, 0.12205225521279305, 0.13780050209644984, 0.15632356944956038, 0.1735341621905871, 0.19922404524844575, 0.22309167859208964, 0.2472220033099535, 0.27442860138393793, 0.3136345025249079, 0.34717494894486045]}, {\"line\": {\"color\": \"red\"}, \"name\": \"2020_H_MORTALITE\", \"type\": \"scatter\", \"x\": [0.0, 1.0, 2.0, 3.0, 4.0, 5.0, 6.0, 7.0, 8.0, 9.0, 10.0, 11.0, 12.0, 13.0, 14.0, 15.0, 16.0, 17.0, 18.0, 19.0, 20.0, 21.0, 22.0, 23.0, 24.0, 25.0, 26.0, 27.0, 28.0, 29.0, 30.0, 31.0, 32.0, 33.0, 34.0, 35.0, 36.0, 37.0, 38.0, 39.0, 40.0, 41.0, 42.0, 43.0, 44.0, 45.0, 46.0, 47.0, 48.0, 49.0, 50.0, 51.0, 52.0, 53.0, 54.0, 55.0, 56.0, 57.0, 58.0, 59.0, 60.0, 61.0, 62.0, 63.0, 64.0, 65.0, 66.0, 67.0, 68.0, 69.0, 70.0, 71.0, 72.0, 73.0, 74.0, 75.0, 76.0, 77.0, 78.0, 79.0, 80.0, 81.0, 82.0, 83.0, 84.0, 85.0, 86.0, 87.0, 88.0, 89.0, 90.0, 91.0, 92.0, 93.0, 94.0, 95.0, 96.0], \"y\": [0.004233125078350714, 0.00021226245966296165, 0.0002368512320493553, 0.00010100072611332828, 0.0001432687562680081, 8.54267194068797e-05, 7.14194618033414e-05, 9.459042346639053e-05, 9.184902007025208e-05, 0.00011384610912755124, 6.0970851055527376e-05, 7.774595052927985e-05, 0.00010814583958039414, 0.00011834005134509167, 0.0001478072790158006, 0.00018722393707304937, 0.00022212788642847977, 0.00029315543643207664, 0.0004720527725800604, 0.0005399005905011391, 0.0005659779735911562, 0.0006051301294027181, 0.0005987214400216312, 0.0005939964912765399, 0.0005966872598826327, 0.0006835070336963125, 0.0006849455409752571, 0.0006901446230189776, 0.0007493033393222906, 0.0007507205576781286, 0.0007766067887709597, 0.0008922760387142828, 0.0007654699644790479, 0.000977058461094254, 0.0010861572993124443, 0.0011074513058588584, 0.0011380740849517236, 0.0011411070947413369, 0.0012574288850070382, 0.0013809235616780503, 0.0015072010717874288, 0.0016313255744430815, 0.001760824341799261, 0.001971888089427363, 0.0020032255759592516, 0.0024370844225443645, 0.002428034351848439, 0.0028947042880759326, 0.0031160649709685486, 0.0036233392065187736, 0.0037995062284679002, 0.004434000866221432, 0.004662453297278311, 0.004933216201919444, 0.005411812484947511, 0.005932348679312637, 0.006688331859781595, 0.007461002685365872, 0.008060402252455265, 0.0085961249771313, 0.00965310653136943, 0.010589506856093655, 0.011672741274454472, 0.012418461934597889, 0.013241060375526944, 0.014245801647872022, 0.015498266751926766, 0.015839270399964474, 0.01783690014084023, 0.018195942597161043, 0.020050612641722546, 0.021408596880675757, 0.02323676329606468, 0.02555438698561167, 0.031729149663998334, 0.030333053883088178, 0.03319383456039141, 0.037831327792250756, 0.04335443037974684, 0.04226300423047131, 0.0490925039590729, 0.05552223888055972, 0.06272944506000615, 0.06990845154536321, 0.0821869460871202, 0.09085925039872408, 0.10609138019399783, 0.11895956734483647, 0.13843879290815658, 0.157446926445319, 0.18480757677492313, 0.20054927232229744, 0.23464996965852045, 0.25661870503597123, 0.2842953265894631, 0.30955946586796457, 0.3490390576565406]}],\n",
              "                        {\"font\": {\"family\": \"Century Gothic\", \"size\": 18}, \"legend\": {\"x\": 0.01, \"xanchor\": \"left\", \"y\": 0.99, \"yanchor\": \"top\"}, \"template\": {\"data\": {\"bar\": [{\"error_x\": {\"color\": \"#2a3f5f\"}, \"error_y\": {\"color\": \"#2a3f5f\"}, \"marker\": {\"line\": {\"color\": \"#E5ECF6\", \"width\": 0.5}}, \"type\": \"bar\"}], \"barpolar\": [{\"marker\": {\"line\": {\"color\": \"#E5ECF6\", \"width\": 0.5}}, \"type\": \"barpolar\"}], \"carpet\": [{\"aaxis\": {\"endlinecolor\": \"#2a3f5f\", \"gridcolor\": \"white\", \"linecolor\": \"white\", \"minorgridcolor\": \"white\", \"startlinecolor\": \"#2a3f5f\"}, \"baxis\": {\"endlinecolor\": \"#2a3f5f\", \"gridcolor\": \"white\", \"linecolor\": \"white\", \"minorgridcolor\": \"white\", \"startlinecolor\": \"#2a3f5f\"}, \"type\": \"carpet\"}], \"choropleth\": [{\"colorbar\": {\"outlinewidth\": 0, \"ticks\": \"\"}, \"type\": \"choropleth\"}], \"contour\": [{\"colorbar\": {\"outlinewidth\": 0, \"ticks\": \"\"}, \"colorscale\": [[0.0, \"#0d0887\"], [0.1111111111111111, \"#46039f\"], [0.2222222222222222, \"#7201a8\"], [0.3333333333333333, \"#9c179e\"], [0.4444444444444444, \"#bd3786\"], [0.5555555555555556, \"#d8576b\"], [0.6666666666666666, \"#ed7953\"], [0.7777777777777778, \"#fb9f3a\"], [0.8888888888888888, \"#fdca26\"], [1.0, \"#f0f921\"]], \"type\": \"contour\"}], \"contourcarpet\": [{\"colorbar\": {\"outlinewidth\": 0, \"ticks\": \"\"}, \"type\": \"contourcarpet\"}], \"heatmap\": [{\"colorbar\": {\"outlinewidth\": 0, \"ticks\": \"\"}, \"colorscale\": [[0.0, \"#0d0887\"], [0.1111111111111111, \"#46039f\"], [0.2222222222222222, \"#7201a8\"], [0.3333333333333333, \"#9c179e\"], [0.4444444444444444, \"#bd3786\"], [0.5555555555555556, \"#d8576b\"], [0.6666666666666666, \"#ed7953\"], [0.7777777777777778, \"#fb9f3a\"], [0.8888888888888888, \"#fdca26\"], [1.0, \"#f0f921\"]], \"type\": \"heatmap\"}], \"heatmapgl\": [{\"colorbar\": {\"outlinewidth\": 0, \"ticks\": \"\"}, \"colorscale\": [[0.0, \"#0d0887\"], [0.1111111111111111, \"#46039f\"], [0.2222222222222222, \"#7201a8\"], [0.3333333333333333, \"#9c179e\"], [0.4444444444444444, \"#bd3786\"], [0.5555555555555556, \"#d8576b\"], [0.6666666666666666, \"#ed7953\"], [0.7777777777777778, \"#fb9f3a\"], [0.8888888888888888, \"#fdca26\"], [1.0, \"#f0f921\"]], \"type\": \"heatmapgl\"}], \"histogram\": [{\"marker\": {\"colorbar\": {\"outlinewidth\": 0, \"ticks\": \"\"}}, \"type\": \"histogram\"}], \"histogram2d\": [{\"colorbar\": {\"outlinewidth\": 0, \"ticks\": \"\"}, \"colorscale\": [[0.0, \"#0d0887\"], [0.1111111111111111, \"#46039f\"], [0.2222222222222222, \"#7201a8\"], [0.3333333333333333, \"#9c179e\"], [0.4444444444444444, \"#bd3786\"], [0.5555555555555556, \"#d8576b\"], [0.6666666666666666, \"#ed7953\"], [0.7777777777777778, \"#fb9f3a\"], [0.8888888888888888, \"#fdca26\"], [1.0, \"#f0f921\"]], \"type\": \"histogram2d\"}], \"histogram2dcontour\": [{\"colorbar\": {\"outlinewidth\": 0, \"ticks\": \"\"}, \"colorscale\": [[0.0, \"#0d0887\"], [0.1111111111111111, \"#46039f\"], [0.2222222222222222, \"#7201a8\"], [0.3333333333333333, \"#9c179e\"], [0.4444444444444444, \"#bd3786\"], [0.5555555555555556, \"#d8576b\"], [0.6666666666666666, \"#ed7953\"], [0.7777777777777778, \"#fb9f3a\"], [0.8888888888888888, \"#fdca26\"], [1.0, \"#f0f921\"]], \"type\": \"histogram2dcontour\"}], \"mesh3d\": [{\"colorbar\": {\"outlinewidth\": 0, \"ticks\": \"\"}, \"type\": \"mesh3d\"}], \"parcoords\": [{\"line\": {\"colorbar\": {\"outlinewidth\": 0, \"ticks\": \"\"}}, \"type\": \"parcoords\"}], \"pie\": [{\"automargin\": true, \"type\": \"pie\"}], \"scatter\": [{\"marker\": {\"colorbar\": {\"outlinewidth\": 0, \"ticks\": \"\"}}, \"type\": \"scatter\"}], \"scatter3d\": [{\"line\": {\"colorbar\": {\"outlinewidth\": 0, \"ticks\": \"\"}}, \"marker\": {\"colorbar\": {\"outlinewidth\": 0, \"ticks\": \"\"}}, \"type\": \"scatter3d\"}], \"scattercarpet\": [{\"marker\": {\"colorbar\": {\"outlinewidth\": 0, \"ticks\": \"\"}}, \"type\": \"scattercarpet\"}], \"scattergeo\": [{\"marker\": {\"colorbar\": {\"outlinewidth\": 0, \"ticks\": \"\"}}, \"type\": \"scattergeo\"}], \"scattergl\": [{\"marker\": {\"colorbar\": {\"outlinewidth\": 0, \"ticks\": \"\"}}, \"type\": \"scattergl\"}], \"scattermapbox\": [{\"marker\": {\"colorbar\": {\"outlinewidth\": 0, \"ticks\": \"\"}}, \"type\": \"scattermapbox\"}], \"scatterpolar\": [{\"marker\": {\"colorbar\": {\"outlinewidth\": 0, \"ticks\": \"\"}}, \"type\": \"scatterpolar\"}], \"scatterpolargl\": [{\"marker\": {\"colorbar\": {\"outlinewidth\": 0, \"ticks\": \"\"}}, \"type\": \"scatterpolargl\"}], \"scatterternary\": [{\"marker\": {\"colorbar\": {\"outlinewidth\": 0, \"ticks\": \"\"}}, \"type\": \"scatterternary\"}], \"surface\": [{\"colorbar\": {\"outlinewidth\": 0, \"ticks\": \"\"}, \"colorscale\": [[0.0, \"#0d0887\"], [0.1111111111111111, \"#46039f\"], [0.2222222222222222, \"#7201a8\"], [0.3333333333333333, \"#9c179e\"], [0.4444444444444444, \"#bd3786\"], [0.5555555555555556, \"#d8576b\"], [0.6666666666666666, \"#ed7953\"], [0.7777777777777778, \"#fb9f3a\"], [0.8888888888888888, \"#fdca26\"], [1.0, \"#f0f921\"]], \"type\": \"surface\"}], \"table\": [{\"cells\": {\"fill\": {\"color\": \"#EBF0F8\"}, \"line\": {\"color\": \"white\"}}, \"header\": {\"fill\": {\"color\": \"#C8D4E3\"}, \"line\": {\"color\": \"white\"}}, \"type\": \"table\"}]}, \"layout\": {\"annotationdefaults\": {\"arrowcolor\": \"#2a3f5f\", \"arrowhead\": 0, \"arrowwidth\": 1}, \"coloraxis\": {\"colorbar\": {\"outlinewidth\": 0, \"ticks\": \"\"}}, \"colorscale\": {\"diverging\": [[0, \"#8e0152\"], [0.1, \"#c51b7d\"], [0.2, \"#de77ae\"], [0.3, \"#f1b6da\"], [0.4, \"#fde0ef\"], [0.5, \"#f7f7f7\"], [0.6, \"#e6f5d0\"], [0.7, \"#b8e186\"], [0.8, \"#7fbc41\"], [0.9, \"#4d9221\"], [1, \"#276419\"]], \"sequential\": [[0.0, \"#0d0887\"], [0.1111111111111111, \"#46039f\"], [0.2222222222222222, \"#7201a8\"], [0.3333333333333333, \"#9c179e\"], [0.4444444444444444, \"#bd3786\"], [0.5555555555555556, \"#d8576b\"], [0.6666666666666666, \"#ed7953\"], [0.7777777777777778, \"#fb9f3a\"], [0.8888888888888888, \"#fdca26\"], [1.0, \"#f0f921\"]], \"sequentialminus\": [[0.0, \"#0d0887\"], [0.1111111111111111, \"#46039f\"], [0.2222222222222222, \"#7201a8\"], [0.3333333333333333, \"#9c179e\"], [0.4444444444444444, \"#bd3786\"], [0.5555555555555556, \"#d8576b\"], [0.6666666666666666, \"#ed7953\"], [0.7777777777777778, \"#fb9f3a\"], [0.8888888888888888, \"#fdca26\"], [1.0, \"#f0f921\"]]}, \"colorway\": [\"#636efa\", \"#EF553B\", \"#00cc96\", \"#ab63fa\", \"#FFA15A\", \"#19d3f3\", \"#FF6692\", \"#B6E880\", \"#FF97FF\", \"#FECB52\"], \"font\": {\"color\": \"#2a3f5f\"}, \"geo\": {\"bgcolor\": \"white\", \"lakecolor\": \"white\", \"landcolor\": \"#E5ECF6\", \"showlakes\": true, \"showland\": true, \"subunitcolor\": \"white\"}, \"hoverlabel\": {\"align\": \"left\"}, \"hovermode\": \"closest\", \"mapbox\": {\"style\": \"light\"}, \"paper_bgcolor\": \"white\", \"plot_bgcolor\": \"#E5ECF6\", \"polar\": {\"angularaxis\": {\"gridcolor\": \"white\", \"linecolor\": \"white\", \"ticks\": \"\"}, \"bgcolor\": \"#E5ECF6\", \"radialaxis\": {\"gridcolor\": \"white\", \"linecolor\": \"white\", \"ticks\": \"\"}}, \"scene\": {\"xaxis\": {\"backgroundcolor\": \"#E5ECF6\", \"gridcolor\": \"white\", \"gridwidth\": 2, \"linecolor\": \"white\", \"showbackground\": true, \"ticks\": \"\", \"zerolinecolor\": \"white\"}, \"yaxis\": {\"backgroundcolor\": \"#E5ECF6\", \"gridcolor\": \"white\", \"gridwidth\": 2, \"linecolor\": \"white\", \"showbackground\": true, \"ticks\": \"\", \"zerolinecolor\": \"white\"}, \"zaxis\": {\"backgroundcolor\": \"#E5ECF6\", \"gridcolor\": \"white\", \"gridwidth\": 2, \"linecolor\": \"white\", \"showbackground\": true, \"ticks\": \"\", \"zerolinecolor\": \"white\"}}, \"shapedefaults\": {\"line\": {\"color\": \"#2a3f5f\"}}, \"ternary\": {\"aaxis\": {\"gridcolor\": \"white\", \"linecolor\": \"white\", \"ticks\": \"\"}, \"baxis\": {\"gridcolor\": \"white\", \"linecolor\": \"white\", \"ticks\": \"\"}, \"bgcolor\": \"#E5ECF6\", \"caxis\": {\"gridcolor\": \"white\", \"linecolor\": \"white\", \"ticks\": \"\"}}, \"title\": {\"x\": 0.05}, \"xaxis\": {\"automargin\": true, \"gridcolor\": \"white\", \"linecolor\": \"white\", \"ticks\": \"\", \"title\": {\"standoff\": 15}, \"zerolinecolor\": \"white\", \"zerolinewidth\": 2}, \"yaxis\": {\"automargin\": true, \"gridcolor\": \"white\", \"linecolor\": \"white\", \"ticks\": \"\", \"title\": {\"standoff\": 15}, \"zerolinecolor\": \"white\", \"zerolinewidth\": 2}}}, \"title\": {\"text\": \"Taux de mortalit\\u00e9 par \\u00e2ge r\\u00e9volu\"}},\n",
              "                        {\"responsive\": true}\n",
              "                    ).then(function(){\n",
              "                            \n",
              "var gd = document.getElementById('86e261c3-6ad1-4ba2-9351-55bf4422d4bf');\n",
              "var x = new MutationObserver(function (mutations, observer) {{\n",
              "        var display = window.getComputedStyle(gd).display;\n",
              "        if (!display || display === 'none') {{\n",
              "            console.log([gd, 'removed!']);\n",
              "            Plotly.purge(gd);\n",
              "            observer.disconnect();\n",
              "        }}\n",
              "}});\n",
              "\n",
              "// Listen for the removal of the full notebook cells\n",
              "var notebookContainer = gd.closest('#notebook-container');\n",
              "if (notebookContainer) {{\n",
              "    x.observe(notebookContainer, {childList: true});\n",
              "}}\n",
              "\n",
              "// Listen for the clearing of the current output cell\n",
              "var outputEl = gd.closest('.output');\n",
              "if (outputEl) {{\n",
              "    x.observe(outputEl, {childList: true});\n",
              "}}\n",
              "\n",
              "                        })\n",
              "                };\n",
              "                \n",
              "            </script>\n",
              "        </div>\n",
              "</body>\n",
              "</html>"
            ]
          },
          "metadata": {
            "tags": []
          }
        }
      ]
    }
  ]
}